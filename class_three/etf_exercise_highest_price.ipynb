{
 "cells": [
  {
   "cell_type": "code",
   "execution_count": 1,
   "metadata": {
    "collapsed": true
   },
   "outputs": [],
   "source": [
    "#first we import libraries\n",
    "import wget\n",
    "import re\n",
    "import csv"
   ]
  },
  {
   "cell_type": "code",
   "execution_count": 2,
   "metadata": {
    "collapsed": false
   },
   "outputs": [],
   "source": [
    "'''\n",
    "downloding csv files and adding data to the list\n",
    "'''\t\n",
    "\n",
    "def spdrHoldings(string):\n",
    "    data = []\n",
    "    file_url = 'http://www.sectorspdr.com/sectorspdr/IDCO.Client.Spdrs.Holdings/Export/ExportCsv?symbol='\n",
    "    etf = wget.download(file_url + string)\n",
    "\n",
    "    with open(etf,'r',errors='replace') as holdings:\n",
    "        for line in holdings.readlines()[2:]:\n",
    "#             print(line)\n",
    "            #cleaning line a bit and split it\n",
    "            split_line = line.replace('\"','').strip().split(',')[:-1]\n",
    "#             print(split_line)\n",
    "#             we have to change volume, check split_line[6]\n",
    "#             print(split_line[6])\n",
    "#             converting volume into int\n",
    "            if \"K\" in split_line[6]:\n",
    "                split_line[6] = int(float(re.sub('[\"\".KM]', '', split_line[6])))*1000\n",
    "            elif \"M\" in split_line[6]:\n",
    "                split_line[6] = int(float(re.sub('[\"\".KM]', '', split_line[6])))*1000000\n",
    "#             coverting last price into int\n",
    "#             print(split_line[3])\n",
    "            split_line[3] = int(float(re.sub('[\"\"]', '', split_line[3])))\n",
    "#             print(split_line[3])\n",
    "\n",
    "            data.append(list(split_line))\n",
    "    \n",
    "#         print(data)\n",
    "        return data\n",
    "# spdrHoldings(\"XLF\")"
   ]
  },
  {
   "cell_type": "code",
   "execution_count": 3,
   "metadata": {
    "collapsed": false
   },
   "outputs": [
    {
     "data": {
      "text/plain": [
       "{'price': 389, 'symbol': 'BLK'}"
      ]
     },
     "execution_count": 3,
     "metadata": {},
     "output_type": "execute_result"
    }
   ],
   "source": [
    "'''\n",
    "returns the largest last price\n",
    "''' \n",
    "\n",
    "def highestValue():\n",
    "    data = spdrHoldings(\"XLF\")\n",
    "    values = []\n",
    "    for line in data:\n",
    "        symbol = line[0]\n",
    "        last = line[3]\n",
    "        values.append({'price':last,\"symbol\":symbol})\n",
    "#     print(max(values,key=lambda item: item['price']))\n",
    "    return max(values,key=lambda item: item['price'])\n",
    "\n",
    "\n",
    "highestValue()"
   ]
  },
  {
   "cell_type": "code",
   "execution_count": 4,
   "metadata": {
    "collapsed": false
   },
   "outputs": [],
   "source": [
    "'''\n",
    "Summing up VOLUME in csv file if name of the co contains GROUP\n",
    "'''\n",
    "\n",
    "def findAllHoldings(etf):\n",
    "    data = spdrHoldings(etf)\n",
    "    group_count = []\n",
    "    for line in data:\n",
    "        # print(line)\n",
    "        if re.search(r'[Gg]roup', line[1]):\n",
    "            symbol = line[1]\n",
    "            print(\"SYMBOL\", symbol)\n",
    "            volume = line[6]\n",
    "            group_count.append(volume)\n",
    "\n",
    "   \n",
    "    return group_count\n",
    "# findAllHoldings()"
   ]
  },
  {
   "cell_type": "code",
   "execution_count": 5,
   "metadata": {
    "collapsed": false
   },
   "outputs": [
    {
     "name": "stdout",
     "output_type": "stream",
     "text": [
      "SYMBOL Citigroup Inc\n",
      "SYMBOL Goldman Sachs Group Inc\n",
      "SYMBOL American Intl Group Inc\n",
      "SYMBOL PNC Finl Services Group\n",
      "SYMBOL CME Group Inc A\n",
      "SYMBOL Citizens Financial Group Inc\n",
      "SYMBOL Hartford Finl Services Group\n",
      "SYMBOL T Rowe Price Group Inc\n",
      "SYMBOL Principal Financial Group\n",
      "SYMBOL Unum Group\n",
      "SYMBOL XL Group Ltd\n",
      "\n",
      " Total trading volume for companies with name 'Group' is 3,233,209,000\n"
     ]
    }
   ],
   "source": [
    "def etf_exercise():\n",
    "    etfs = [\"XLF\"]\n",
    "    all_values =[]\n",
    "    for symbol in etfs:\n",
    "#         high_value = highestValue(symbol)\n",
    "#         print('\\n', \"for ETF\", symbol, \"highest last price\", high_value)\n",
    "        group_count = findAllHoldings(symbol)\n",
    "        if group_count not in all_values:\n",
    "            all_values.append(group_count)\n",
    "\n",
    "    print('\\n',\"Total trading volume for companies with name 'Group' is {0:,}\".format(sum(sum(i) for i in all_values)))\n",
    "\n",
    "etf_exercise()"
   ]
  },
  {
   "cell_type": "code",
   "execution_count": null,
   "metadata": {
    "collapsed": true
   },
   "outputs": [],
   "source": []
  }
 ],
 "metadata": {
  "anaconda-cloud": {},
  "kernelspec": {
   "display_name": "Python [default]",
   "language": "python",
   "name": "python3"
  },
  "language_info": {
   "codemirror_mode": {
    "name": "ipython",
    "version": 3
   },
   "file_extension": ".py",
   "mimetype": "text/x-python",
   "name": "python",
   "nbconvert_exporter": "python",
   "pygments_lexer": "ipython3",
   "version": "3.5.2"
  }
 },
 "nbformat": 4,
 "nbformat_minor": 1
}
