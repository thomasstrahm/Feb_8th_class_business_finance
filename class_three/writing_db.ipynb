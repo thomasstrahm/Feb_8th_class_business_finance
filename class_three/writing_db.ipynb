{
 "cells": [
  {
   "cell_type": "code",
   "execution_count": 1,
   "metadata": {
    "collapsed": true
   },
   "outputs": [],
   "source": [
    "import sqlite3\n",
    "import wget\n",
    "import re\n",
    "# import sqlite3 as sq3"
   ]
  },
  {
   "cell_type": "code",
   "execution_count": 2,
   "metadata": {
    "collapsed": true
   },
   "outputs": [],
   "source": [
    "conn = sqlite3.connect('etftodb.db')\n",
    "c = conn.cursor()"
   ]
  },
  {
   "cell_type": "code",
   "execution_count": 3,
   "metadata": {
    "collapsed": true
   },
   "outputs": [],
   "source": [
    "def create_db():\n",
    "    c.execute('''CREATE TABLE 'holdings' (\n",
    "                'ticker' VARCHAR,\n",
    "                'comapny_name' VARCHAR,\n",
    "                'index_weight' VARCHAR,\n",
    "                'last_price' INTEGER,\n",
    "                'change_price' VARCHAR,\n",
    "                'percentage_change' VARCHAR,\n",
    "                'volume' INTEGER,\n",
    "                'lowhigh' VARCHAR,\n",
    "                PRIMARY KEY ('ticker')\n",
    "        )''')\n",
    "\n",
    "# comment out after creating db\n",
    "#     conn.commit()\n",
    "# create_db()\n"
   ]
  },
  {
   "cell_type": "code",
   "execution_count": 4,
   "metadata": {
    "collapsed": true
   },
   "outputs": [],
   "source": [
    "def spdrHoldings(string):\n",
    "    data = []\n",
    "    file_url = 'http://www.sectorspdr.com/sectorspdr/IDCO.Client.Spdrs.Holdings/Export/ExportCsv?symbol='\n",
    "    etf = wget.download(file_url + string)\n",
    "\n",
    "    with open(etf,'r',errors='replace') as holdings:\n",
    "        for line in holdings.readlines()[2:]:\n",
    "            split_line = line.replace('\"','').strip().split(',')[:-1]\n",
    "            if \"K\" in split_line[6]:\n",
    "                split_line[6] = int(float(re.sub('[\"\".KM]', '', split_line[6])))*1000\n",
    "            elif \"M\" in split_line[6]:\n",
    "                split_line[6] = int(float(re.sub('[\"\".KM]', '', split_line[6])))*1000000\n",
    "            split_line[3] = int(float(re.sub('[\"\"]', '', split_line[3])))\n",
    "\n",
    "            data.append(list(split_line))\n",
    "    \n",
    "\n",
    "        return data"
   ]
  },
  {
   "cell_type": "code",
   "execution_count": 5,
   "metadata": {
    "collapsed": false
   },
   "outputs": [
    {
     "name": "stdout",
     "output_type": "stream",
     "text": [
      "['JPM', 'JP Morgan Chase & Co', '10.70%', 86, '-0.90', '-1.04%', 1366000000, '52.50 - 88.17']\n"
     ]
    }
   ],
   "source": [
    "def insert_data_in_db():\n",
    "    data = spdrHoldings(\"XLF\")\n",
    "    print(data[1])\n",
    "    \n",
    "    for ticker, comapny_name, index_weight, last_price, change_price, percentage_change, volume, lowhigh, in data:\n",
    "        new_data = (ticker, comapny_name, index_weight, last_price, change_price, percentage_change, volume, lowhigh)\n",
    "        c.execute('INSERT INTO holdings VALUES(?,?,?,?,?,?,?,?)', new_data)\n",
    "        conn.commit()\n",
    "    conn.close()\n",
    "\n",
    "insert_data_in_db()"
   ]
  },
  {
   "cell_type": "code",
   "execution_count": null,
   "metadata": {
    "collapsed": true
   },
   "outputs": [],
   "source": []
  }
 ],
 "metadata": {
  "kernelspec": {
   "display_name": "Python [default]",
   "language": "python",
   "name": "python3"
  },
  "language_info": {
   "codemirror_mode": {
    "name": "ipython",
    "version": 3
   },
   "file_extension": ".py",
   "mimetype": "text/x-python",
   "name": "python",
   "nbconvert_exporter": "python",
   "pygments_lexer": "ipython3",
   "version": "3.5.2"
  }
 },
 "nbformat": 4,
 "nbformat_minor": 1
}
