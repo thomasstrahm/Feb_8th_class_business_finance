{
 "cells": [
  {
   "cell_type": "code",
   "execution_count": 1,
   "metadata": {
    "collapsed": true
   },
   "outputs": [],
   "source": [
    "import requests\n"
   ]
  },
  {
   "cell_type": "code",
   "execution_count": 2,
   "metadata": {
    "collapsed": false
   },
   "outputs": [
    {
     "name": "stdout",
     "output_type": "stream",
     "text": [
      "[{'Exchange': 'NASDAQ', 'Symbol': 'AAPL', 'Name': 'Apple Inc'}, {'Exchange': 'NASDAQ', 'Symbol': 'AVSPY', 'Name': 'AAPL ALPHA INDEX'}, {'Exchange': 'NASDAQ', 'Symbol': 'AIX', 'Name': 'NAS OMX Alpha   AAPL vs. SPY  Settle'}]\n"
     ]
    }
   ],
   "source": [
    "#Creating a wrapper with requests\n",
    "def company_search(ticker):\n",
    "    lookup_url = \"http://dev.markitondemand.com/Api/v2/Lookup/json?input=\"\n",
    "    r = requests.get(lookup_url + ticker)\n",
    "    print(r.json())\n",
    "company_search(\"aapl\")"
   ]
  },
  {
   "cell_type": "code",
   "execution_count": 5,
   "metadata": {
    "collapsed": false
   },
   "outputs": [
    {
     "name": "stdout",
     "output_type": "stream",
     "text": [
      "{'Timestamp': 'Fri Jan 27 00:00:00 UTC-05:00 2017', 'ChangePercent': 0.00820075446941538, 'Open': 122.14, 'MarketCap': 641190661200, 'Volume': 20562944, 'Change': 0.0100000000000051, 'ChangeYTD': 115.82, 'ChangePercentYTD': 5.2926955620791, 'MSDate': 42762, 'High': 122.35, 'Name': 'Apple Inc', 'Status': 'SUCCESS', 'Low': 121.6, 'LastPrice': 121.95, 'Symbol': 'AAPL'}\n"
     ]
    }
   ],
   "source": [
    "#Creating a wrapper with requests\n",
    "def get_quote(ticker):\n",
    "        quote_url = \"http://dev.markitondemand.com/Api/v2/Quote/json?symbol=\"\n",
    "        r = requests.get(quote_url + ticker)\n",
    "        print(r.json())\n",
    "get_quote(\"aapl\")"
   ]
  },
  {
   "cell_type": "code",
   "execution_count": null,
   "metadata": {
    "collapsed": true
   },
   "outputs": [],
   "source": []
  }
 ],
 "metadata": {
  "anaconda-cloud": {},
  "kernelspec": {
   "display_name": "Python [default]",
   "language": "python",
   "name": "python3"
  },
  "language_info": {
   "codemirror_mode": {
    "name": "ipython",
    "version": 3
   },
   "file_extension": ".py",
   "mimetype": "text/x-python",
   "name": "python",
   "nbconvert_exporter": "python",
   "pygments_lexer": "ipython3",
   "version": "3.5.2"
  }
 },
 "nbformat": 4,
 "nbformat_minor": 1
}
